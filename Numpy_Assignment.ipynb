{
  "nbformat": 4,
  "nbformat_minor": 0,
  "metadata": {
    "colab": {
      "provenance": [],
      "authorship_tag": "ABX9TyOHgVGdZkcVCD7GWEvfeCQy",
      "include_colab_link": true
    },
    "kernelspec": {
      "name": "python3",
      "display_name": "Python 3"
    },
    "language_info": {
      "name": "python"
    }
  },
  "cells": [
    {
      "cell_type": "markdown",
      "metadata": {
        "id": "view-in-github",
        "colab_type": "text"
      },
      "source": [
        "<a href=\"https://colab.research.google.com/github/harshitdeshmukh-0719/NUMPY_ASSIGNMENT/blob/main/Numpy_Assignment.ipynb\" target=\"_parent\"><img src=\"https://colab.research.google.com/assets/colab-badge.svg\" alt=\"Open In Colab\"/></a>"
      ]
    },
    {
      "cell_type": "code",
      "execution_count": 1,
      "metadata": {
        "id": "WchhoDXbX5IQ",
        "colab": {
          "base_uri": "https://localhost:8080/"
        },
        "outputId": "5813077d-7c3a-445a-a1e5-d877736907f2"
      },
      "outputs": [
        {
          "output_type": "stream",
          "name": "stdout",
          "text": [
            "Array: [0 1 2 3 4 5]\n",
            "Data type:  int64\n"
          ]
        }
      ],
      "source": [
        "# 1. Create a NumPy array 'arr' of integers from 0 to 5 and print its data type.\n",
        "\n",
        "# Code\n",
        "\n",
        "import numpy as np\n",
        "arr=np.arange(6)\n",
        "print(\"Array:\",arr)\n",
        "print(\"Data type: \", arr.dtype)\n"
      ]
    },
    {
      "cell_type": "code",
      "source": [
        "# 2. Given a NumPy array 'arr', check if its data type is float64.\n",
        "#    arr = np.array([1.5, 2.6, 3.7])\n",
        "\n",
        "# Code\n",
        "\n",
        "import numpy as np\n",
        "arr = np.array([1.5, 2.6, 3.7])\n",
        "\n",
        "is_float64 = arr.dtype == np.float64\n",
        "print(\"Is the data type float64?\", is_float64)"
      ],
      "metadata": {
        "id": "J0zyxbqtY28y",
        "colab": {
          "base_uri": "https://localhost:8080/"
        },
        "outputId": "723f9c63-1a50-49f2-d55a-5f6ad5e109a4"
      },
      "execution_count": 2,
      "outputs": [
        {
          "output_type": "stream",
          "name": "stdout",
          "text": [
            "Is the data type float64? True\n"
          ]
        }
      ]
    },
    {
      "cell_type": "code",
      "source": [],
      "metadata": {
        "id": "U_nZdwLLY46R"
      },
      "execution_count": 2,
      "outputs": []
    },
    {
      "cell_type": "code",
      "source": [
        "#  3. Create a NumPy array 'arr' with a data type of complex128 containing three complex numbers\n",
        "\n",
        "# Code\n",
        "\n",
        "import numpy as np\n",
        "complex_num=[2+3j,9+4j,5+2j]\n",
        "arr=np.array(complex_num,dtype=np.complex128)\n",
        "\n",
        "print(\"Array\",arr)\n",
        "print(\"Data type:\",arr.dtype)\n"
      ],
      "metadata": {
        "id": "A6aVqKm0Y8Cu",
        "colab": {
          "base_uri": "https://localhost:8080/"
        },
        "outputId": "0558e2bd-9bf7-4fa0-964c-1ace9dc804f6"
      },
      "execution_count": 3,
      "outputs": [
        {
          "output_type": "stream",
          "name": "stdout",
          "text": [
            "Array [2.+3.j 9.+4.j 5.+2.j]\n",
            "Data type: complex128\n"
          ]
        }
      ]
    },
    {
      "cell_type": "code",
      "source": [
        "# 4. Convert an existing NumPy array 'arr' of integers to float32 data type.\n",
        "\n",
        "# Code\n",
        "\n",
        "import numpy as np\n",
        "\n",
        "arr = np.array([1, 2, 3, 4, 5])\n",
        "arr_float32 = arr.astype('float32')\n",
        "\n",
        "print(arr_float32.dtype)"
      ],
      "metadata": {
        "id": "5nLa6isBY_NQ",
        "colab": {
          "base_uri": "https://localhost:8080/"
        },
        "outputId": "d6b5922d-ea5b-474a-f451-0625e707e846"
      },
      "execution_count": 4,
      "outputs": [
        {
          "output_type": "stream",
          "name": "stdout",
          "text": [
            "float32\n"
          ]
        }
      ]
    },
    {
      "cell_type": "code",
      "source": [
        "#  5. Given a NumPy array 'arr' with float64 data type, convert it to float32 to reduce decimal precision.\n",
        "\n",
        "# Code\n",
        "\n",
        "import numpy as np\n",
        "\n",
        "arr = np.array([1.123456789, 2.987654321, 3.141592653], dtype='float64')\n",
        "\n",
        "print(\"Original array data type:\", arr.dtype)\n",
        "arr_float32 = arr.astype('float32')\n",
        "\n",
        "print(\"Converted array data type:\", arr_float32.dtype)"
      ],
      "metadata": {
        "id": "LhyWQ6rcZEf5",
        "colab": {
          "base_uri": "https://localhost:8080/"
        },
        "outputId": "b3328ae3-55ef-478e-fe5f-3a270d84fb11"
      },
      "execution_count": 5,
      "outputs": [
        {
          "output_type": "stream",
          "name": "stdout",
          "text": [
            "Original array data type: float64\n",
            "Converted array data type: float32\n"
          ]
        }
      ]
    },
    {
      "cell_type": "code",
      "source": [
        "#  6. Write a function array_attributes that takes a NumPy array as input and returns its shape, size, and data type.\n",
        "\n",
        "#  Code\n",
        "\n",
        "import numpy as np\n",
        "\n",
        "def array_attributes(arr):\n",
        "    size=np.shape(arr)\n",
        "    shape=np.size(arr)\n",
        "    data_type = arr.dtype\n",
        "    return size,shape,data_type\n",
        "arr=np.array([1,2,3,4,5])\n",
        "size,shape,data_type=array_attributes(arr)\n",
        "print(\"shape:\",shape)\n",
        "print(\"size:\",size)\n",
        "print(\"data type:\",data_type)\n"
      ],
      "metadata": {
        "id": "FkyLvjEjZHda",
        "colab": {
          "base_uri": "https://localhost:8080/"
        },
        "outputId": "85709634-4d9d-48b9-e73c-a36f2e25fc81"
      },
      "execution_count": 6,
      "outputs": [
        {
          "output_type": "stream",
          "name": "stdout",
          "text": [
            "shape: 5\n",
            "size: (5,)\n",
            "data type: int64\n"
          ]
        }
      ]
    },
    {
      "cell_type": "code",
      "source": [
        "# 7. Create a function array_dimension that takes a NumPy array as input and returns its dimensionality.\n",
        "\n",
        "# Code\n",
        "\n",
        "import numpy as np\n",
        "\n",
        "def array_dimension (arr):\n",
        "    dimension =arr.ndim\n",
        "    return dimension\n",
        "arr=np.array([[1,2,3],[4,5,6]])\n",
        "dimension =array_dimension(arr)\n",
        "print(\"Dimensionality:\",dimension)"
      ],
      "metadata": {
        "id": "JfS29rDXZJ1w",
        "colab": {
          "base_uri": "https://localhost:8080/"
        },
        "outputId": "21d28a57-1418-416f-8390-1718a3019eab"
      },
      "execution_count": 7,
      "outputs": [
        {
          "output_type": "stream",
          "name": "stdout",
          "text": [
            "Dimensionality: 2\n"
          ]
        }
      ]
    },
    {
      "cell_type": "code",
      "source": [
        "# 8. Design a function item_size_info that takes a NumPy array as input and returns the item size and the total size in bytes.\n",
        "\n",
        "# Code\n",
        "\n",
        "import numpy as np\n",
        "\n",
        "def item_size_info(arr):\n",
        "    if isinstance(arr, np.ndarray):\n",
        "        item_size = arr.itemsize\n",
        "        total_size = arr.nbytes\n",
        "        print(f\"Item size: {item_size} bytes\")\n",
        "        print(f\"Total size: {total_size} bytes\")\n",
        "    else:\n",
        "        print(\"Invalid input. Please provide a NumPy array.\")\n",
        "\n",
        "arr = np.array([1, 2, 3, 4, 5])\n",
        "item_size_info(arr)"
      ],
      "metadata": {
        "id": "j5j6Rtd0ZMTv",
        "colab": {
          "base_uri": "https://localhost:8080/"
        },
        "outputId": "871aec27-c7d5-41cc-cfd0-bea426ce1567"
      },
      "execution_count": 8,
      "outputs": [
        {
          "output_type": "stream",
          "name": "stdout",
          "text": [
            "Item size: 8 bytes\n",
            "Total size: 40 bytes\n"
          ]
        }
      ]
    },
    {
      "cell_type": "code",
      "source": [
        "# 9. Create a function array_strides that takes a NumPy array as input and returns the strides of the array.\n",
        "\n",
        "# Code\n",
        "\n",
        "import numpy as np\n",
        "\n",
        "def array_strides(input_array):\n",
        "    if isinstance(input_array, np.ndarray):\n",
        "        return input_array.strides\n",
        "    else:\n",
        "        raise ValueError(\"Input is not a NumPy array\")\n",
        "\n",
        "my_array = np.array([[1, 2, 3], [4, 5, 6], [7, 8, 9]])\n",
        "print(array_strides(my_array))"
      ],
      "metadata": {
        "id": "mFIf3nOrZO-i",
        "colab": {
          "base_uri": "https://localhost:8080/"
        },
        "outputId": "1f43ab79-1f36-4168-f0dd-6c5b0340b9ad"
      },
      "execution_count": 9,
      "outputs": [
        {
          "output_type": "stream",
          "name": "stdout",
          "text": [
            "(24, 8)\n"
          ]
        }
      ]
    },
    {
      "cell_type": "code",
      "source": [
        "# 10. Design a function shape_stride_relationship that takes a NumPy array as input and returns the shape and strides of the array.\n",
        "\n",
        "# Code\n",
        "\n",
        "import numpy as np\n",
        "\n",
        "def array_strides(input_array):\n",
        "    if isinstance(input_array, np.ndarray):\n",
        "        return input_array.strides\n",
        "    else:\n",
        "        raise ValueError(\"Input is not a NumPy array\")\n",
        "\n",
        "my_array = np.array([[1, 2, 3], [4, 5, 6]])\n",
        "print(\"My array:\")\n",
        "print(my_array)\n",
        "print(\"\\nStrides of my array:\")\n",
        "print(array_strides(my_array))"
      ],
      "metadata": {
        "id": "x_vxYsxQZRpx",
        "colab": {
          "base_uri": "https://localhost:8080/"
        },
        "outputId": "b22fbc81-cb1e-402a-89fd-9f6161aea6d6"
      },
      "execution_count": 10,
      "outputs": [
        {
          "output_type": "stream",
          "name": "stdout",
          "text": [
            "My array:\n",
            "[[1 2 3]\n",
            " [4 5 6]]\n",
            "\n",
            "Strides of my array:\n",
            "(24, 8)\n"
          ]
        }
      ]
    },
    {
      "cell_type": "code",
      "source": [
        "#  11. Create a function `create_zeros_array` that takes an integer `n` as input and returns a NumPy array of zeros with `n` elements.\n",
        "\n",
        "# Code\n",
        "\n",
        "import numpy as np\n",
        "\n",
        "def create_zeros_array(n):\n",
        "\n",
        "    return np.zeros(n)\n",
        "\n",
        "print(create_zeros_array(int(input())))"
      ],
      "metadata": {
        "id": "K79D5o_RZUkr"
      },
      "execution_count": null,
      "outputs": []
    },
    {
      "cell_type": "code",
      "source": [
        "#  12. Write a function `create_ones_matrix` that takes integers `rows` and `cols` as inputs and generates a 2D NumPy array filled with ones of size `rows x cols`\n",
        "\n",
        "# Code\n",
        "\n",
        "import numpy as np\n",
        "\n",
        "def create_ones_matrix(rows, cols):\n",
        "    return np.ones((rows, cols))\n",
        "\n",
        "rows = 2\n",
        "cols = 3\n",
        "ones_matrix = create_ones_matrix(rows, cols)\n",
        "print(ones_matrix)\n"
      ],
      "metadata": {
        "id": "Lce0rMDRZYL0"
      },
      "execution_count": null,
      "outputs": []
    },
    {
      "cell_type": "code",
      "source": [
        "#  13. Write a function `generate_range_array` that takes three integers start, stop, and step as arguments and creates a NumPy array with a range starting from `start`, ending at stop (exclusive), and with the specified step`.\n",
        "\n",
        "# Code\n",
        "\n",
        "import numpy as np\n",
        "\n",
        "def generate_range_array(start, stop, step):\n",
        "    return np.arange(start, stop, step)\n",
        "\n",
        "start = 0\n",
        "stop = 12\n",
        "step = 4\n",
        "range_array = generate_range_array(start, stop, step)\n",
        "print(range_array)"
      ],
      "metadata": {
        "id": "4ODzHj3PZa1Y"
      },
      "execution_count": null,
      "outputs": []
    },
    {
      "cell_type": "code",
      "source": [
        "#  14. Design a function `generate_linear_space` that takes two floats `start`, `stop`, and an integer `num` as  arguments and generates a NumPy array with num equally spaced values between `start` and `stop` (inclusive).\n",
        "\n",
        "# Code\n",
        "\n",
        "import numpy as np\n",
        "\n",
        "def generate_linear_space(start, stop, num):\n",
        "    return np.linspace(start, stop, num)\n",
        "\n",
        "# Example usage:\n",
        "start = 0.0\n",
        "stop = 1.0\n",
        "num = 5\n",
        "linear_space = generate_linear_space(start, stop, num)\n",
        "print(linear_space)\n"
      ],
      "metadata": {
        "id": "S0ZyW2cbZbII"
      },
      "execution_count": null,
      "outputs": []
    },
    {
      "cell_type": "code",
      "source": [
        "#  15. Create a function `create_identity_matrix` that takes an integer `n` as input and generates a square identity matrix of size `n x n` using `numpy.eye`.\n",
        "\n",
        "#  Code\n",
        "\n",
        "import numpy as np\n",
        "\n",
        "def create_identity_matrix(n):\n",
        "    return np.eye(n)\n",
        "\n",
        "n = 3\n",
        "identity_matrix = create_identity_matrix(n)\n",
        "print(identity_matrix)"
      ],
      "metadata": {
        "id": "_vNGAJZzZf5a"
      },
      "execution_count": null,
      "outputs": []
    },
    {
      "cell_type": "code",
      "source": [
        "\n",
        "#  16. Write a function that takes a Python list and converts it into a NumPy array.\n",
        "\n",
        "#  Code\n",
        "\n",
        "import numpy as np\n",
        "\n",
        "def list_to_numpy_array(lst):\n",
        "    return np.array(lst)\n",
        "\n",
        "lst = [1, 2, 3]\n",
        "numpy_array = list_to_numpy_array(lst)\n",
        "print(numpy_array)"
      ],
      "metadata": {
        "id": "K1dW-ZvMZhw4"
      },
      "execution_count": null,
      "outputs": []
    },
    {
      "cell_type": "code",
      "source": [
        "#  17. Create a NumPy array and demonstrate the use of `numpy.view` to create a new array object with the same data.\n",
        "\n",
        "#  Code\n",
        "\n",
        "import numpy as np\n",
        "\n",
        "arr = np.array([1, 2, 3, 4, 5])\n",
        "\n",
        "new_arr = arr.view()\n",
        "\n",
        "print(\"Original array:\")\n",
        "print(arr)\n",
        "print(\"\\nNew array:\")\n",
        "print(new_arr)\n",
        "\n",
        "new_arr[0] = 10\n",
        "print(\"\\nOriginal array after modifying new array:\")\n",
        "print(arr)"
      ],
      "metadata": {
        "id": "sxJPRVZFZkFo"
      },
      "execution_count": null,
      "outputs": []
    },
    {
      "cell_type": "code",
      "source": [
        "#  18. Write a function that takes two NumPy arrays and concatenates them along a specified axis.\n",
        "\n",
        "#      Code\n",
        "\n",
        "import numpy as np\n",
        "\n",
        "def concatenate_arrays(array1, array2, axis=0):\n",
        "    return np.concatenate((array1, array2), axis=axis)\n",
        "\n",
        "array1 = np.array([[1, 2], [3, 4]])\n",
        "array2 = np.array([[5, 6]])\n",
        "\n",
        "result = concatenate_arrays(array1, array2, axis=0)\n",
        "print(\"Concatenated along axis 0:\")\n",
        "print(result)\n",
        "\n",
        "result = concatenate_arrays(array1, array2.T, axis=1)\n",
        "print(\"\\nConcatenated along axis 1:\")\n",
        "print(result)\n"
      ],
      "metadata": {
        "id": "ViKv6eJ7ZmT8"
      },
      "execution_count": null,
      "outputs": []
    },
    {
      "cell_type": "code",
      "source": [
        "# 19.  Create two NumPy arrays with different shapes and concatenate them horizontally using `numpy.concatenate`.\n",
        "\n",
        "# Code\n",
        "\n",
        "import numpy as np\n",
        "\n",
        "array1 = np.array([[1, 2, 3], [4, 5, 6]])\n",
        "array2 = np.array([[7, 8], [9, 10]])\n",
        "\n",
        "array2_extended = np.concatenate((array2, np.zeros((array2.shape[0], 1))), axis=1)\n",
        "\n",
        "result = np.concatenate((array1, array2_extended), axis=1)\n",
        "\n",
        "print(result)"
      ],
      "metadata": {
        "id": "E3va9QHtZonz"
      },
      "execution_count": null,
      "outputs": []
    },
    {
      "cell_type": "code",
      "source": [
        "# 20. Write a function that vertically stacks multiple NumPy arrays given as a list.\n",
        "\n",
        "# Code\n",
        "\n",
        "import numpy as np\n",
        "\n",
        "def stack_arrays_vertically(arrays_list):\n",
        "\n",
        "    stacked_array = np.vstack(arrays_list)\n",
        "    return stacked_array\n",
        "\n",
        "array1 = np.array([1, 2, 3])\n",
        "array2 = np.array([4, 5, 6])\n",
        "array3 = np.array([7, 8, 9])\n",
        "\n",
        "stacked_array = stack_arrays_vertically([array1, array2, array3])\n",
        "print(stacked_array)"
      ],
      "metadata": {
        "id": "DPiuwyZNZo6x"
      },
      "execution_count": null,
      "outputs": []
    },
    {
      "cell_type": "code",
      "source": [
        "#  21. Write a Python function using NumPy to create an array of integers within a specified range (inclusive)  with a given step size.\n",
        "\n",
        "#  Code\n",
        "\n",
        "import numpy as np\n",
        "\n",
        "def create_integer_array(start, end, step=1):\n",
        "\n",
        "    if step == 0:\n",
        "        raise ValueError(\"Step size cannot be zero.\")\n",
        "\n",
        "    integer_array = np.arange(start, end + 1, step)\n",
        "    return integer_array\n",
        "integer_array = create_integer_array(0, 10, 2)\n",
        "print(integer_array)"
      ],
      "metadata": {
        "id": "LsOik4JyZvOJ"
      },
      "execution_count": null,
      "outputs": []
    },
    {
      "cell_type": "code",
      "source": [
        "# 22. Write a Python function using NumPy to generate an array of 10 equally spaced values between 0 and 1 (inclusive).\n",
        "\n",
        "#     Code\n",
        "\n",
        "import numpy as np\n",
        "\n",
        "def generate_equally_spaced_values(start, end, num_values):\n",
        "\n",
        "    if num_values <= 0:\n",
        "        raise ValueError(\"Number of values must be greater than zero.\")\n",
        "\n",
        "    equally_spaced_values = np.linspace(start, end, num_values)\n",
        "    return equally_spaced_values\n",
        "\n",
        "equally_spaced_values = generate_equally_spaced_values(0, 1, 10)\n",
        "print(equally_spaced_values)"
      ],
      "metadata": {
        "id": "NrXYsDFlZxcP"
      },
      "execution_count": null,
      "outputs": []
    },
    {
      "cell_type": "code",
      "source": [
        "#  23. Write a Python function using NumPy to create an array of 5 logarithmically spaced values between 1 and 1000 (inclusive).\n",
        "\n",
        "#    Code\n",
        "\n",
        "import numpy as np\n",
        "\n",
        "def generate_log_array():\n",
        "    return np.logspace(1, 3, 5, endpoint=True)\n",
        "print(generate_log_array())"
      ],
      "metadata": {
        "id": "xghnMFrfZzVk"
      },
      "execution_count": null,
      "outputs": []
    },
    {
      "cell_type": "code",
      "source": [
        "# 24. Create a Pandas DataFrame using a NumPy array that contains 5 rows and 3 columns, where the values are random integers between 1 and 100.\n",
        "\n",
        "# Code\n",
        "\n",
        "import numpy as np\n",
        "import pandas as pd\n",
        "\n",
        "np_array = np.random.randint(1, 101, size=(5, 3))\n",
        "\n",
        "print(\"NumPy Array:\")\n",
        "print(np_array)\n",
        "\n",
        "df = pd.DataFrame(np_array, columns=['Column_1', 'Column_2', 'Column_3'])\n",
        "\n",
        "print(\"\\nPandas DataFrame:\")\n",
        "print(df)\n"
      ],
      "metadata": {
        "id": "oP45NF4XZ1V3"
      },
      "execution_count": null,
      "outputs": []
    },
    {
      "cell_type": "code",
      "source": [
        "# 25. Write a function that takes a Pandas DataFrame and replaces all negative values in a specific columnwith zeros. Use NumPy operations within the Pandas DataFrame.\n",
        "\n",
        "# Code\n",
        "\n",
        "import pandas as pd\n",
        "import numpy as np\n",
        "\n",
        "def replace_negative_with_zeros(dataframe, column):\n",
        "\n",
        "    dataframe[column] = np.where(dataframe[column] < 0, 0, dataframe[column])\n",
        "    return dataframe\n",
        "\n",
        "# Example usage\n",
        "data = {'A': [-1, 2, -3, 4],\n",
        "        'B': [5, -6, 7, -8]}\n",
        "df = pd.DataFrame(data)\n",
        "\n",
        "print(\"Original DataFrame:\")\n",
        "print(df)\n",
        "\n",
        "df = replace_negative_with_zeros(df, 'A')\n",
        "\n",
        "print(\"\\nDataFrame with negative values replaced by zeros:\")\n",
        "print(df)\n",
        "\n"
      ],
      "metadata": {
        "id": "8leeoGJLZ4Td"
      },
      "execution_count": null,
      "outputs": []
    },
    {
      "cell_type": "code",
      "source": [
        "# 26. Access the 3rd element from the given NumPy array.\n",
        "# arr = np.array([10, 20, 30, 40, 50])\n",
        "\n",
        "# Code\n",
        "\n",
        "import numpy as np\n",
        "\n",
        "arr = np.array([10, 20, 30, 40, 50])\n",
        "third_element = arr[2]\n",
        "print(\"The third element of the array is:\", third_element)\n"
      ],
      "metadata": {
        "id": "qxYPngzyZ7cg"
      },
      "execution_count": null,
      "outputs": []
    },
    {
      "cell_type": "code",
      "source": [
        "# 27. Retrieve the element at index (1, 2) from the 2D NumPy array.\n",
        "\n",
        "# Code\n",
        "\n",
        "import numpy as np\n",
        "\n",
        "arr_2d = np.array([[1, 2, 3],\n",
        "                   [4, 5, 6],\n",
        "                   [7, 8, 9]])\n",
        "\n",
        "element_at_1_2 = arr_2d[1, 2]\n",
        "print(\"Element at index (1, 2) is:\", element_at_1_2)"
      ],
      "metadata": {
        "id": "lINofNLqZ-Go"
      },
      "execution_count": null,
      "outputs": []
    },
    {
      "cell_type": "code",
      "source": [
        "# 28. Using boolean indexing, extract elements greater than 5 from the given NumPy array.\n",
        "# arr = np.array([3, 8, 2, 10, 5, 7])\n",
        "\n",
        "# Code\n",
        "\n",
        "import numpy as np\n",
        "\n",
        "arr = np.array([3, 8, 2, 10, 5, 7])\n",
        "mask = arr > 5\n",
        "\n",
        "result = arr[mask]\n",
        "\n",
        "print(\"Elements greater than 5:\", result)\n"
      ],
      "metadata": {
        "id": "vFXc3PkfaATL"
      },
      "execution_count": null,
      "outputs": []
    },
    {
      "cell_type": "code",
      "source": [
        "# 29. Perform basic slicing to extract elements from index 2 to 5 (inclusive) from the given NumPy array.\n",
        "# arr = np.array([1, 2, 3, 4, 5, 6, 7, 8, 9])\n",
        "\n",
        "# Code\n",
        "\n",
        "import numpy as np\n",
        "\n",
        "arr = np.array([1, 2, 3, 4, 5, 6, 7, 8, 9])\n",
        "\n",
        "sliced_arr = arr[2:6]\n",
        "print(\"The elements from index 2 to 5 (inclusive) from the array are:\", sliced_arr)"
      ],
      "metadata": {
        "id": "oQ1T0TMoaD0a"
      },
      "execution_count": null,
      "outputs": []
    },
    {
      "cell_type": "code",
      "source": [
        "# 30. Slice the 2D NumPy array to extract the sub-array `[[2, 3], [5, 6]]` from the given array.\n",
        "# arr_2d = np.array([[1, 2, 3],\n",
        "                   # [4, 5, 6],\n",
        "                   # [7, 8, 9]])\n",
        "\n",
        "# Code\n",
        "\n",
        "import numpy as np\n",
        "\n",
        "arr_2d = np.array([[1, 2, 3],\n",
        "                   [4, 5, 6],\n",
        "                   [7, 8, 9]])\n",
        "\n",
        "sub_array = arr_2d[0:2, 1:3]\n",
        "\n",
        "print(sub_array)"
      ],
      "metadata": {
        "id": "jg5tO815aHhk"
      },
      "execution_count": null,
      "outputs": []
    },
    {
      "cell_type": "code",
      "source": [
        "\n",
        "# 31.Write a NumPy function to extract elements in specific order from a given 2D array based on indices provided in another array.\n",
        "\n",
        "# Code\n",
        "\n",
        "import numpy as np\n",
        "\n",
        "def extract_elements(arr_2d, indices):\n",
        "    extracted_elements = arr_2d[tuple(indices.T.tolist())]\n",
        "    return extracted_elements\n",
        "\n",
        "arr_2d = np.array([[1, 2, 3],\n",
        "                    [4, 5, 6],\n",
        "                    [7, 8, 9]])\n",
        "\n",
        "indices = np.array([[0, 0],\n",
        "                      [1, 2],\n",
        "                      [2, 1]])\n",
        "\n",
        "extracted_elements = extract_elements(arr_2d, indices)\n",
        "\n",
        "print(\"The extracted elements in the specified order are:\", extracted_elements)"
      ],
      "metadata": {
        "id": "epWPoA90aKUp"
      },
      "execution_count": null,
      "outputs": []
    },
    {
      "cell_type": "code",
      "source": [
        "# 32. Create a NumPy function that filters elements greater than a threshold from a given 1D array using boolean indexing.\n",
        "\n",
        "# Code\n",
        "\n",
        "import numpy as np\n",
        "\n",
        "def filter_greater_than(arr, threshold):\n",
        "\n",
        "    filtered_arr = arr[arr > threshold]\n",
        "\n",
        "    return filtered_arr\n",
        "arr = np.array([1, 2, 3, 4, 5, 6, 7, 8, 9])\n",
        "\n",
        "filtered_arr = filter_greater_than(arr, 5)\n",
        "\n",
        "print(\"The elements greater than 5 are:\", filtered_arr)"
      ],
      "metadata": {
        "id": "FABJX5QjaM0w"
      },
      "execution_count": null,
      "outputs": []
    },
    {
      "cell_type": "code",
      "source": [
        "# 33. Develop a NumPy function that extracts specific elements from a 3D array using indices provided in three separate arrays for each dimension.\n",
        "\n",
        "# Code\n",
        "\n",
        "import numpy as np\n",
        "\n",
        "def extract_elements_3d(array, x_indices, y_indices, z_indices):\n",
        "    return array[x_indices, y_indices, z_indices]\n",
        "\n",
        "array_3d = np.random.randint(1, 100, size=(4, 4, 4))\n",
        "print(\"Original 3D array:\")\n",
        "print(array_3d)\n",
        "\n",
        "x_indices = np.array([0, 1, 2])\n",
        "y_indices = np.array([1, 2, 3])\n",
        "z_indices = np.array([3, 0, 1])\n",
        "\n",
        "extracted_elements = extract_elements_3d(array_3d, x_indices, y_indices, z_indices)\n",
        "print(\"\\nExtracted elements:\")\n",
        "print(extracted_elements)"
      ],
      "metadata": {
        "id": "L0ngN4YjaPyv"
      },
      "execution_count": null,
      "outputs": []
    },
    {
      "cell_type": "code",
      "source": [
        "# 34. Write a NumPy function that returns elements from an array where both two conditions are satisfied using boolean indexing.\n",
        "\n",
        "# Code\n",
        "\n",
        "import numpy as np\n",
        "\n",
        "def filter_two_conditions(arr, condition1, condition2):\n",
        "    filtered_arr = arr[(condition1) & (condition2)]\n",
        "    return filtered_arr\n",
        "\n",
        "arr = np.array([1, 2, 3, 4, 5, 6, 7, 8, 9])\n",
        "condition1 = (arr > 3)\n",
        "condition2 = (arr % 2 == 0)\n",
        "filtered_arr = filter_two_conditions(arr, condition1, condition2)\n",
        "print(\"The elements greater than 3 and even are:\", filtered_arr)"
      ],
      "metadata": {
        "id": "WBWX1rfdaXsR"
      },
      "execution_count": null,
      "outputs": []
    },
    {
      "cell_type": "code",
      "source": [
        "# 35. Create a NumPy function that extracts elements from a 2D array using row and column indices provided in separate arrays.\n",
        "\n",
        "# Code\n",
        "\n",
        "import numpy as np\n",
        "\n",
        "def extract_elements_2d(arr, row_indices, col_indices):\n",
        "    extracted_elements = arr[row_indices, col_indices]\n",
        "    return extracted_elements\n",
        "\n",
        "arr = np.array([[1, 2, 3],\n",
        "                [4, 5, 6],\n",
        "                [7, 8, 9]])\n",
        "row_indices = np.array([0, 1, 2])\n",
        "col_indices = np.array([2, 1, 0])\n",
        "extracted_elements = extract_elements_2d(arr, row_indices, col_indices)\n",
        "print(\"The extracted elements are:\", extracted_elements)"
      ],
      "metadata": {
        "id": "k1g5LufKaZ_7"
      },
      "execution_count": null,
      "outputs": []
    },
    {
      "cell_type": "code",
      "source": [
        "# 36. Given an array arr of shape (3, 3), add a scalar value of 5 to each element using NumPy broadcasting.\n",
        "\n",
        "# Code\n",
        "\n",
        "import numpy as np\n",
        "\n",
        "arr = np.array([[1, 2, 3],\n",
        "                [4, 5, 6],\n",
        "                [7, 8, 9]])\n",
        "\n",
        "result = arr + 5\n",
        "\n",
        "print(\"The array after adding 5 to each element is:\")\n",
        "print(result)\n"
      ],
      "metadata": {
        "id": "rStJ4jKpadt-"
      },
      "execution_count": null,
      "outputs": []
    },
    {
      "cell_type": "code",
      "source": [
        "# 37. Consider two arrays arr1 of shape (1, 3) and arr2 of shape (3, 4). Multiply each row of arr2 by the corresponding element in arr1 using NumPy broadcasting.\n",
        "\n",
        "# Code\n",
        "\n",
        "import numpy as np\n",
        "\n",
        "arr1 = np.array([[2, 3, 4]])\n",
        "arr2 = np.array([\n",
        "    [1, 2, 3, 4],\n",
        "    [5, 6, 7, 8],\n",
        "    [9, 10, 11, 12]\n",
        "])\n",
        "\n",
        "print(\"Array arr1:\")\n",
        "print(arr1)\n",
        "print(\"\\nArray arr2:\")\n",
        "print(arr2)\n",
        "\n",
        "result = arr2 * arr1.T\n",
        "\n",
        "print(\"\\nResult of broadcasting multiplication:\")\n",
        "print(result)"
      ],
      "metadata": {
        "id": "jshIZ7tOaggh"
      },
      "execution_count": null,
      "outputs": []
    },
    {
      "cell_type": "code",
      "source": [
        "# 38. Given a 1D array arr1 of shape (1, 4) and a 2D array arr2 of shape (4, 3), add arr1 to each row of arr2 using NumPy broadcasting.\n",
        "\n",
        "# Code\n",
        "\n",
        "import numpy as np\n",
        "\n",
        "arr1 = np.array([[2, 3, 4]])\n",
        "arr2 = np.array([\n",
        "    [1, 2, 3, 4],\n",
        "    [5, 6, 7, 8],\n",
        "    [9, 10, 11, 12]\n",
        "])\n",
        "\n",
        "print(\"Array arr1:\")\n",
        "print(arr1)\n",
        "print(\"\\nArray arr2:\")\n",
        "print(arr2)\n",
        "\n",
        "result = arr2 * arr1.T\n",
        "\n",
        "print(\"\\nResult of broadcasting multiplication:\")\n",
        "print(result)"
      ],
      "metadata": {
        "id": "_vzjO40yakVp"
      },
      "execution_count": null,
      "outputs": []
    },
    {
      "cell_type": "code",
      "source": [
        "# 39. Consider two arrays arr1 of shape (3, 1) and arr2 of shape (1, 3). Add these arrays using NumPy broadcasting.\n",
        "\n",
        "# Code\n",
        "\n",
        "import numpy as np\n",
        "\n",
        "arr1 = np.array([[1],\n",
        "                [2],\n",
        "                [3]])\n",
        "arr2 = np.array([[4, 5, 6]])\n",
        "\n",
        "result = arr1 + arr2\n",
        "\n",
        "print(\"The resulting array after adding arr1 and arr2 is:\")\n",
        "print(result)"
      ],
      "metadata": {
        "id": "GhFyfYAlaptv"
      },
      "execution_count": null,
      "outputs": []
    },
    {
      "cell_type": "code",
      "source": [
        "# 40. Given arrays arr1 of shape (2, 3) and arr2 of shape (2, 2), perform multiplication using NumPy broadcasting. Handle the shape incompatibility.\n",
        "\n",
        "# Code\n",
        "\n",
        "import numpy as np\n",
        "\n",
        "arr1 = np.array([\n",
        "    [1, 2, 3],\n",
        "    [4, 5, 6]\n",
        "])\n",
        "\n",
        "arr2 = np.array([\n",
        "    [7, 8],\n",
        "    [9, 10]\n",
        "])\n",
        "\n",
        "print(\"Array arr1:\")\n",
        "print(arr1)\n",
        "print(\"\\nArray arr2:\")\n",
        "print(arr2)\n",
        "\n",
        "arr2_expanded = np.expand_dims(arr2, axis=2)\n",
        "arr1_expanded = np.expand_dims(arr1, axis=1)\n",
        "\n",
        "result = arr1_expanded * arr2_expanded\n",
        "\n",
        "print(\"\\nResult of broadcasting multiplication:\")\n",
        "print(result)"
      ],
      "metadata": {
        "id": "eEEYUcGpas80"
      },
      "execution_count": null,
      "outputs": []
    },
    {
      "cell_type": "code",
      "source": [
        "# 41. Calculate column wise mean for the given array:\n",
        "# arr = np.array([[1, 2, 3], [4, 5, 6]])\n",
        "\n",
        "# Code\n",
        "\n",
        "import numpy as np\n",
        "\n",
        "arr = np.array([[1, 2, 3],\n",
        "                [4, 5, 6]])\n",
        "\n",
        "# Calculate column wise mean\n",
        "col_mean = np.mean(arr, axis=0)\n",
        "\n",
        "print(\"The column wise mean of the array is:\")\n",
        "print(col_mean)"
      ],
      "metadata": {
        "id": "zb7pR--aavbN"
      },
      "execution_count": null,
      "outputs": []
    },
    {
      "cell_type": "code",
      "source": [
        "# 42. Find maximum value in each row of the given array:\n",
        "# arr = np.array([[1, 2, 3], [4, 5, 6]])\n",
        "\n",
        "# Code\n",
        "\n",
        "import numpy as np\n",
        "\n",
        "arr = np.array([[1, 2, 3],\n",
        "                [4, 5, 6]])\n",
        "\n",
        "row_max = np.max(arr, axis=1)\n",
        "\n",
        "print(\"The maximum value in each row of the array is:\")\n",
        "print(row_max)"
      ],
      "metadata": {
        "id": "_QsHgDz1a2aV"
      },
      "execution_count": null,
      "outputs": []
    },
    {
      "cell_type": "code",
      "source": [
        "# 43. For the given array, find indices of maximum value in each column.\n",
        "# arr = np.array([[1, 2, 3], [4, 5, 6]])\n",
        "\n",
        "# Code\n",
        "\n",
        "import numpy as np\n",
        "\n",
        "arr = np.array([[1, 2, 3],\n",
        "                [4, 5, 6]])\n",
        "\n",
        "# Find indices of maximum value in each column\n",
        "col_max_indices = np.argmax(arr, axis=0)\n",
        "\n",
        "print(\"The indices of the maximum value in each column of the array are:\")\n",
        "print(col_max_indices)"
      ],
      "metadata": {
        "id": "tDDxoi9ya4lx"
      },
      "execution_count": null,
      "outputs": []
    },
    {
      "cell_type": "code",
      "source": [
        "# 44. For the given array, apply custom function to calculate moving sum along rows.\n",
        "# arr = np.array([[1, 2, 3], [4, 5, 6]])\n",
        "\n",
        "# Code\n",
        "\n",
        "import numpy as np\n",
        "\n",
        "def moving_sum(arr, window_size=2):\n",
        "    result = np.zeros((arr.shape[0], arr.shape[1] - window_size + 1))\n",
        "    for i in range(arr.shape[1] - window_size + 1):\n",
        "        result[:, i] = np.sum(arr[:, i:i+window_size], axis=1)\n",
        "    return result\n",
        "\n",
        "arr = np.array([[1, 2, 3], [4, 5, 6]])\n",
        "print(\"Original array:\")\n",
        "print(arr)\n",
        "\n",
        "result = moving_sum(arr, window_size=2)\n",
        "print(\"\\nMoving sum along rows with window size 2:\")\n",
        "print(result)"
      ],
      "metadata": {
        "id": "xkCSkk2oa7VI"
      },
      "execution_count": null,
      "outputs": []
    },
    {
      "cell_type": "code",
      "source": [
        "# 45. In the given array, check if all elements in each column are even.\n",
        "# arr = np.array([[2, 4, 6], [3, 5, 7]])\n",
        "\n",
        "# Code\n",
        "\n",
        "import numpy as np\n",
        "\n",
        "arr = np.array([[2, 4, 6],\n",
        "                [3, 5, 7]])\n",
        "\n",
        "is_even = np.all(arr % 2 == 0, axis=0)\n",
        "\n",
        "print(\"The result of checking if all elements in each column are even is:\")\n",
        "print(is_even)"
      ],
      "metadata": {
        "id": "ptU2BfqOa-gV"
      },
      "execution_count": null,
      "outputs": []
    },
    {
      "cell_type": "code",
      "source": [
        "# 46. Given a NumPy array arr, reshape it into a matrix of dimensions m rows and n columns. Return the reshaped matrix.\n",
        "# original_array = np.array([1, 2, 3, 4, 5, 6])\n",
        "\n",
        "# Code\n",
        "\n",
        "import numpy as np\n",
        "\n",
        "def reshape_matrix(arr, m, n):\n",
        "\n",
        "    reshaped_matrix = np.reshape(arr, (m, n))\n",
        "\n",
        "    return reshaped_matrix\n",
        "\n",
        "original_array = np.array([1, 2, 3, 4, 5, 6])\n",
        "\n",
        "reshaped_matrix = reshape_matrix(original_array, 2, 3)\n",
        "\n",
        "print(\"The reshaped matrix is:\")\n",
        "print(reshaped_matrix)"
      ],
      "metadata": {
        "id": "UbwWfcYAbBNA"
      },
      "execution_count": null,
      "outputs": []
    },
    {
      "cell_type": "code",
      "source": [
        "# 47. Create a function that takes a matrix as input and returns the flattened array.\n",
        "# input_matrix = np.array([[1, 2, 3], [4, 5, 6]])\n",
        "\n",
        "# Code\n",
        "\n",
        "import numpy as np\n",
        "\n",
        "def flatten_matrix(matrix):\n",
        "\n",
        "    flattened_array = np.ravel(matrix)\n",
        "\n",
        "    return flattened_array\n",
        "\n",
        "input_matrix = np.array([[1, 2, 3],\n",
        "                          [4, 5, 6]])\n",
        "\n",
        "flattened_array = flatten_matrix(input_matrix)\n",
        "\n",
        "print(\"The flattened array is:\")\n",
        "print(flattened_array)"
      ],
      "metadata": {
        "id": "_GyX93gxbDog"
      },
      "execution_count": null,
      "outputs": []
    },
    {
      "cell_type": "code",
      "source": [
        "# 48. Write a function that concatenates two given arrays along a specified axis.\n",
        "# array1 = np.array([[1, 2], [3, 4]])\n",
        "# array2 = np.array([[5, 6], [7, 8]])\n",
        "\n",
        "# Code\n",
        "\n",
        "import numpy as np\n",
        "\n",
        "def concatenate_arrays(array1, array2, axis=0):\n",
        "\n",
        "    output_array = np.concatenate((array1, array2), axis=axis)\n",
        "    return output_array\n",
        "\n",
        "array1 = np.array([[1, 2],\n",
        "                      [3, 4]])\n",
        "\n",
        "array2 = np.array([[5, 6],\n",
        "                      [7, 8]])\n",
        "output_array = concatenate_arrays(array1, array2)\n",
        "\n",
        "print(\"The output array after concatenation along the default axis (axis=0) is:\")\n",
        "print(output_array)\n",
        "\n",
        "output_array = concatenate_arrays(array1, array2, axis=1)\n",
        "\n",
        "print(\"The output array after concatenation along the other axis (axis=1) is:\")\n",
        "print(output_array)\n"
      ],
      "metadata": {
        "id": "ki0thdzqbILP"
      },
      "execution_count": null,
      "outputs": []
    },
    {
      "cell_type": "code",
      "source": [
        "# 49. Create a function that splits an array into multiple sub-arrays along a specified axis.\n",
        "#     original_array = np.array([[1, 2, 3], [4, 5, 6], [7, 8, 9]])\n",
        "\n",
        "# Code\n",
        "\n",
        "import numpy as np\n",
        "\n",
        "def split_array(arr, num_splits, axis=0):\n",
        "\n",
        "    return np.array_split(arr, num_splits, axis=axis)\n",
        "\n",
        "original_array = np.array([[1, 2, 3], [4, 5, 6], [7, 8, 9]])\n",
        "print(\"Original array:\")\n",
        "print(original_array)\n",
        "\n",
        "sub_arrays_axis_0 = split_array(original_array, 3, axis=0)\n",
        "print(\"\\nSplit array along axis 0:\")\n",
        "for i, sub_array in enumerate(sub_arrays_axis_0):\n",
        "    print(f\"Sub-array {i}:\\n{sub_array}\")\n",
        "\n",
        "sub_arrays_axis_1 = split_array(original_array, 3, axis=1)\n",
        "print(\"\\nSplit array along axis 1:\")\n",
        "for i, sub_array in enumerate(sub_arrays_axis_1):\n",
        "    print(f\"Sub-array {i}:\\n{sub_array}\")"
      ],
      "metadata": {
        "id": "JMYXiPAibKfW"
      },
      "execution_count": null,
      "outputs": []
    },
    {
      "cell_type": "code",
      "source": [
        "# 50. Write a function that inserts and then deletes elements from a given array at specified indices.\n",
        "#     original_array = np.array([1, 2, 3, 4, 5])\n",
        "#     indices_to_insert = [2, 4]\n",
        "#     values_to_insert = [10, 11]\n",
        "#     indices_to_delete = [1, 3]\n",
        "\n",
        "# Code\n",
        "\n",
        "import numpy as np\n",
        "\n",
        "def insert_and_delete_elements(arr, indices_to_insert, values_to_insert, indices_to_delete):\n",
        "\n",
        "    modified_array = np.insert(arr, indices_to_insert, values_to_insert)\n",
        "\n",
        "    modified_array = np.delete(modified_array, indices_to_delete)\n",
        "\n",
        "    return modified_array\n",
        "\n",
        "original_array = np.array([1, 2, 3, 4, 5])\n",
        "indices_to_insert = [2, 4]\n",
        "values_to_insert = [10, 11]\n",
        "indices_to_delete = [1, 3]\n",
        "\n",
        "print(\"Original array:\")\n",
        "print(original_array)\n",
        "\n",
        "result = insert_and_delete_elements(original_array, indices_to_insert, values_to_insert, indices_to_delete)\n",
        "print(\"\\nModified array after insertion and deletion:\")\n",
        "print(result)"
      ],
      "metadata": {
        "id": "g7V1F9ofbNFO"
      },
      "execution_count": null,
      "outputs": []
    },
    {
      "cell_type": "code",
      "source": [
        "# 51. Create a NumPy array arr1 with random integers and another array arr2 with integers from 1 to 10. Perform element-wise addition between arr1 and arr2.\n",
        "\n",
        "# Code\n",
        "\n",
        "import numpy as np\n",
        "\n",
        "arr1 = np.random.randint(1, 100, size=10)\n",
        "print(\"Array arr1:\")\n",
        "print(arr1)\n",
        "\n",
        "arr2 = np.arange(1, 11)\n",
        "print(\"\\nArray arr2:\")\n",
        "print(arr2)\n",
        "\n",
        "result = arr1 + arr2\n",
        "print(\"\\nResult of element-wise addition:\")\n",
        "print(result)\n",
        "\n",
        "Array arr1:\n",
        "[29 98 22 20 73 12 94 72 86 65]"
      ],
      "metadata": {
        "id": "kBpZudhkbP7P"
      },
      "execution_count": null,
      "outputs": []
    },
    {
      "cell_type": "code",
      "source": [
        "# 52. Generate a NumPy array arr1 with sequential integers from 10 to 1 and another array arr2 with integers from 1 to 10. Subtract arr2 from arr1 element-wise.\n",
        "\n",
        "# Code\n",
        "\n",
        "import numpy as np\n",
        "\n",
        "arr1 = np.arange(10, 0, -1)\n",
        "arr2 = np.arange(1, 11)\n",
        "result = arr1 - arr2\n",
        "\n",
        "print(\"Array arr1: \", arr1)\n",
        "print(\"Array arr2: \", arr2)\n",
        "print(\"Result array: \", result)"
      ],
      "metadata": {
        "id": "T8daCkizbS5u"
      },
      "execution_count": null,
      "outputs": []
    },
    {
      "cell_type": "code",
      "source": [
        "# 53. Create a NumPy array arr1 with random integers and another array arr2 with integers from 1 to 5. Perform element-wise multiplication between arr1 and arr2.\n",
        "\n",
        "# Code\n",
        "\n",
        "import numpy as np\n",
        "\n",
        "arr1 = np.random.randint(1, 10, size=(5,))\n",
        "arr2 = np.arange(1, 6)\n",
        "result = arr1 * arr2[:, np.newaxis]\n",
        "\n",
        "print(\"Array arr1: \", arr1)\n",
        "print(\"Array arr2: \", arr2)\n",
        "print(\"Result array: \", result)"
      ],
      "metadata": {
        "id": "ohXk5zyGbVJt"
      },
      "execution_count": null,
      "outputs": []
    },
    {
      "cell_type": "code",
      "source": [
        "# 54. Generate a NumPy array arr1 with even integers from 2 to 10 and another array arr2 with integers from 1 to 5. Perform element-wise division of arr1 by arr2.\n",
        "\n",
        "# Code\n",
        "\n",
        "import numpy as np\n",
        "\n",
        "arr1 = np.arange(2, 12, 2)\n",
        "arr2 = np.arange(1, 6)\n",
        "\n",
        "result = arr1 / arr2[:, np.newaxis]\n",
        "\n",
        "print(\"Array arr1: \", arr1)\n",
        "print(\"Array arr2: \", arr2)\n",
        "print(\"Result array: \", result)"
      ],
      "metadata": {
        "id": "ZK8zUFExbX_f"
      },
      "execution_count": null,
      "outputs": []
    },
    {
      "cell_type": "code",
      "source": [
        "\n",
        "# 55. Create a NumPy array arr1 with integers from 1 to 5 and another array arr2 with the same numbers reversed. Calculate the exponentiation of arr1 raised to the power of arr2 element-wise.\n",
        "\n",
        "# Code\n",
        "\n",
        "import numpy as np\n",
        "\n",
        "arr1 = np.array([1, 2, 3, 4, 5])\n",
        "arr2 = np.array([5, 4, 3, 2, 1])\n",
        "\n",
        "result = np.power(arr1, arr2)\n",
        "\n",
        "print(\"Array arr1: \", arr1)\n",
        "print(\"Array arr2: \", arr2)\n",
        "print(\"Result array: \", result)"
      ],
      "metadata": {
        "id": "rHqIt_ffbaGb"
      },
      "execution_count": null,
      "outputs": []
    },
    {
      "cell_type": "code",
      "source": [
        "# 56. Write a function that counts the occurrences of a specific substring within a NumPy array of strings.\n",
        "#     arr = np.array(['hello', 'world', 'hello', 'numpy', 'hello'])\n",
        "\n",
        "# Code\n",
        "\n",
        "import numpy as np\n",
        "\n",
        "def count_substring(arr, substring):\n",
        "\n",
        "    return np.sum(np.char.find(arr, substring) >= 0)\n",
        "\n",
        "arr = np.array(['hello', 'world', 'hello', 'numpy', 'hello'])\n",
        "substring = 'hello'\n",
        "\n",
        "result = count_substring(arr, substring)\n",
        "\n",
        "print(\"Array: \", arr)\n",
        "print(\"Substring: \", substring)\n",
        "print(\"Number of occurrences: \", result)\n"
      ],
      "metadata": {
        "id": "FHxlxpQEbdId"
      },
      "execution_count": null,
      "outputs": []
    },
    {
      "cell_type": "code",
      "source": [
        "# 57. Write a function that extracts uppercase characters from a NumPy array of strings.\n",
        "#     arr = np.array(['Hello', 'World', 'OpenAI', 'GPT'])\n",
        "\n",
        "# Code\n",
        "\n",
        "import numpy as np\n",
        "\n",
        "def extract_uppercase_characters(arr):\n",
        "\n",
        "    uppercase_characters = []\n",
        "    for string in arr:\n",
        "        for char in string:\n",
        "            if char.isupper():\n",
        "                uppercase_characters.append(char)\n",
        "    return uppercase_characters\n",
        "\n",
        "string_array = np.array([\"Hello World\", \"NumPy Arrays\", \"OpenAI GPT-3\", \"Data Science\"])\n",
        "print(\"Original array of strings:\")\n",
        "print(string_array)\n",
        "\n",
        "uppercase_characters = extract_uppercase_characters(string_array)\n",
        "print(\"\\nUppercase characters extracted:\")\n",
        "print(uppercase_characters)"
      ],
      "metadata": {
        "id": "765_7AZdbfpe"
      },
      "execution_count": null,
      "outputs": []
    },
    {
      "cell_type": "code",
      "source": [
        "# 58. Write a function that replaces occurrences of a substring in a NumPy array of strings with a new string.\n",
        "#     arr = np.array(['apple', 'banana', 'grape', 'pineapple'])\n",
        "\n",
        "# Code\n",
        "\n",
        "import numpy as np\n",
        "\n",
        "def replace_substring(arr, old_substring, new_substring):\n",
        "\n",
        "    return np.char.replace(arr, old_substring, new_substring)\n",
        "\n",
        "arr = np.array(['apple', 'banana', 'grape', 'pineapple'])\n",
        "\n",
        "result = replace_substring(arr, 'apple', 'orange')\n",
        "\n",
        "print(\"Array: \", arr)\n",
        "print(\"Replaced array: \", result)"
      ],
      "metadata": {
        "id": "91fDIEaObimn"
      },
      "execution_count": null,
      "outputs": []
    },
    {
      "cell_type": "code",
      "source": [
        "# 59. Write a function that concatenates strings in a NumPy array element-wise.\n",
        "#     arr1 = np.array(['Hello', 'World'])\n",
        "#     arr2 = np.array(['Open', 'AI'])\n",
        "\n",
        "# Code\n",
        "\n",
        "\n",
        "import numpy as np\n",
        "\n",
        "def concatenate_strings(arr1, arr2):\n",
        "\n",
        "    return np.char.add(arr1, arr2)\n",
        "\n",
        "arr1 = np.array(['Hello', 'World'])\n",
        "arr2 = np.array(['Open', 'AI'])\n",
        "\n",
        "result = concatenate_strings(arr1, arr2)\n",
        "\n",
        "print(\"Array 1: \", arr1)\n",
        "print(\"Array 2: \", arr2)\n",
        "print(\"Concatenated array: \", result)"
      ],
      "metadata": {
        "id": "7pXZskttbk6p"
      },
      "execution_count": null,
      "outputs": []
    },
    {
      "cell_type": "code",
      "source": [
        "# 60. Write a function that finds the length of the longest string in a NumPy array.\n",
        "#     arr = np.array(['apple', 'banana', 'grape', 'pineapple'])\n",
        "\n",
        "# Code\n",
        "\n",
        "import numpy as np\n",
        "\n",
        "def longest_string_length(arr):\n",
        "\n",
        "    return np.max(np.char.str_len(arr))\n",
        "\n",
        "arr = np.array(['apple', 'banana', 'grape', 'pineapple'])\n",
        "\n",
        "result = longest_string_length(arr)\n",
        "\n",
        "print(\"Array: \", arr)\n",
        "print(\"Length of longest string: \", result)"
      ],
      "metadata": {
        "id": "HfeUvM8obnra"
      },
      "execution_count": null,
      "outputs": []
    },
    {
      "cell_type": "code",
      "source": [
        "# 61. Create a dataset of 100 random integers between 1 and 1000. Compute the mean, median, variance, and standard deviation of the dataset using NumPy's functions.\n",
        "\n",
        "# Code\n",
        "\n",
        "import numpy as np\n",
        "\n",
        "dataset = np.random.randint(1, 1001, size=100)\n",
        "\n",
        "mean = np.mean(dataset)\n",
        "median = np.median(dataset)\n",
        "variance = np.var(dataset)\n",
        "std_deviation = np.std(dataset)\n",
        "\n",
        "print(\"Dataset: \", dataset)\n",
        "print(\"Mean: \", mean)\n",
        "print(\"Median: \", median)\n",
        "print(\"Variance: \", variance)\n",
        "print(\"Standard Deviation: \", std_deviation)"
      ],
      "metadata": {
        "id": "A4W4NUtObrL_"
      },
      "execution_count": null,
      "outputs": []
    },
    {
      "cell_type": "code",
      "source": [
        "# 62. Generate an array of 50 random numbers between 1 and 100. Find the 25th and 75th percentiles of the dataset.\n",
        "\n",
        "# Code\n",
        "\n",
        "import numpy as np\n",
        "\n",
        "dataset = np.random.randint(1, 101, size=50)\n",
        "\n",
        "q1 = np.percentile(dataset, 25)\n",
        "q3 = np.percentile(dataset, 75)\n",
        "\n",
        "print(\"Dataset: \", dataset)\n",
        "print(\"25th percentile: \", q1)\n",
        "print(\"75th percentile: \", q3)"
      ],
      "metadata": {
        "id": "ENATujaMbtyO"
      },
      "execution_count": null,
      "outputs": []
    },
    {
      "cell_type": "code",
      "source": [
        "# 63. Create two arrays representing two sets of variables. Compute the correlation coefficient between these arrays using NumPy's corrcoef function.\n",
        "\n",
        "# Code\n",
        "\n",
        "import numpy as np\n",
        "\n",
        "array1 = np.array([1, 2, 3, 4, 5])\n",
        "array2 = np.array([2, 3, 5, 6, 7])\n",
        "\n",
        "result = np.corrcoef(array1, array2)[0, 1]\n",
        "\n",
        "print(\"Array 1: \", array1)\n",
        "print(\"Array 2: \", array2)\n",
        "print(\"Correlation coefficient: \", result)"
      ],
      "metadata": {
        "id": "aRrhrtldbwDx"
      },
      "execution_count": null,
      "outputs": []
    },
    {
      "cell_type": "code",
      "source": [
        "# 64. Create two matrices and perform matrix multiplication using NumPy's `dot` function.\n",
        "\n",
        "# Code\n",
        "\n",
        "import numpy as np\n",
        "\n",
        "matrix_a = np.array([[1, 2], [3, 4]])\n",
        "matrix_b = np.array([[5, 6], [7, 8]])\n",
        "\n",
        "print(\"Matrix A:\")\n",
        "print(matrix_a)\n",
        "print(\"\\nMatrix B:\")\n",
        "print(matrix_b)\n",
        "\n",
        "result = np.dot(matrix_a, matrix_b)\n",
        "\n",
        "print(\"\\nResult of Matrix Multiplication:\")\n",
        "print(result)"
      ],
      "metadata": {
        "id": "BgSEqtIwb1j7"
      },
      "execution_count": null,
      "outputs": []
    },
    {
      "cell_type": "code",
      "source": [
        "# 65. Create an array of 50 integers between 10 and 1000. Calculate the 10th, 50th (median), and 90th percentiles along with the first and third quartiles.\n",
        "\n",
        "# Code\n",
        "\n",
        "import numpy as np\n",
        "\n",
        "array = np.random.randint(10, 1001, size=50)\n",
        "\n",
        "p10 = np.percentile(array, 10)\n",
        "p50 = np.percentile(array, 50)\n",
        "p90 = np.percentile(array, 90)\n",
        "\n",
        "q1 = np.percentile(array, 25)\n",
        "q3 = np.percentile(array, 75)\n",
        "\n",
        "print(\"Array:\")\n",
        "print(array)\n",
        "print(\"\\nPercentiles:\")\n",
        "print(\"10th percentile: \", p10)\n",
        "print(\"50th percentile (median): \", p50)\n",
        "print(\"90th percentile: \", p90)\n",
        "print(\"\\nQuartiles:\")\n",
        "print(\"1st quartile: \", q1)\n",
        "print(\"3rd quartile: \", q3)\n"
      ],
      "metadata": {
        "id": "bOytgLPAb3to"
      },
      "execution_count": null,
      "outputs": []
    },
    {
      "cell_type": "code",
      "source": [
        "# 66. Create a NumPy array of integers and find the index of a specific element.\n",
        "\n",
        "# Code\n",
        "\n",
        "import numpy as np\n",
        "\n",
        "array = np.array([1, 2, 3, 4, 5, 6, 7, 8, 9, 10])\n",
        "\n",
        "index = np.where(array == 7)[0][0]\n",
        "\n",
        "print(\"Array:\")\n",
        "print(array)\n",
        "print(\"\\nIndex of 7: \", index)\n"
      ],
      "metadata": {
        "id": "BccIWYq7b8lI"
      },
      "execution_count": null,
      "outputs": []
    },
    {
      "cell_type": "code",
      "source": [
        "# 67. Generate a random NumPy array and sort it in ascending order.\n",
        "\n",
        "# Code\n",
        "\n",
        "import numpy as np\n",
        "\n",
        "array = np.random.rand(10)\n",
        "\n",
        "sorted_array = np.sort(array)\n",
        "\n",
        "print(\"Original array:\")\n",
        "print(array)\n",
        "print(\"\\nSorted array:\")\n",
        "print(sorted_array)\n",
        "\n",
        "Original array:\n",
        "[0.58869812 0.34149151 0.8367626  0.65065021 0.83978471 0.49704115\n",
        " 0.42809142 0.36142838 0.00251829 0.52438666]"
      ],
      "metadata": {
        "id": "syY7pVFub-0A"
      },
      "execution_count": null,
      "outputs": []
    },
    {
      "cell_type": "code",
      "source": [
        "# 68. Filter elements >20 in the given NumPy array.\n",
        "#     arr = np.array([12, 25, 6, 42, 8, 30])\n",
        "\n",
        "# Code\n",
        "\n",
        "import numpy as np\n",
        "\n",
        "arr = np.array([12, 25, 6, 42, 8, 30])\n",
        "\n",
        "filtered_arr = arr[arr > 20]\n",
        "\n",
        "print(\"Original array:\")\n",
        "print(arr)\n",
        "print(\"\\nFiltered array:\")\n",
        "print(filtered_arr)"
      ],
      "metadata": {
        "id": "JQlgppeocA5e"
      },
      "execution_count": null,
      "outputs": []
    },
    {
      "cell_type": "code",
      "source": [
        "# 69. Filter elements which are divisible by 3 from a given NumPy array.\n",
        "#     arr = np.array([1, 5, 8, 12, 15])\n",
        "\n",
        "# Code\n",
        "\n",
        "import numpy as np\n",
        "\n",
        "arr = np.array([1, 5, 8, 12, 15])\n",
        "\n",
        "filtered_arr = arr[arr % 3 == 0]\n",
        "print(\"Original array:\")\n",
        "print(arr)\n",
        "print(\"\\nFiltered array:\")\n",
        "print(filtered_arr)"
      ],
      "metadata": {
        "id": "Pth4yBSMcC0X"
      },
      "execution_count": null,
      "outputs": []
    },
    {
      "cell_type": "code",
      "source": [
        "# 70. Filter elements which are ≥ 20 and ≤ 40 from a given NumPy array.\n",
        "#     arr = np.array([10, 20, 30, 40, 50])\n",
        "\n",
        "# Code\n",
        "\n",
        "import numpy as np\n",
        "\n",
        "arr = np.array([10, 20, 30, 40, 50])\n",
        "filtered_arr = arr[(arr >= 20) & (arr <= 40)]\n",
        "\n",
        "print(\"Original array:\")\n",
        "print(arr)\n",
        "print(\"\\nFiltered array:\")\n",
        "print(filtered_arr)"
      ],
      "metadata": {
        "id": "gP_sHwTscFF4"
      },
      "execution_count": null,
      "outputs": []
    },
    {
      "cell_type": "code",
      "source": [
        "# 71. For the given NumPy array, check its byte order using the dtype attribute byteorder.\n",
        "#     arr = np.array([1, 2, 3])\n",
        "\n",
        "# Code\n",
        "\n",
        "import numpy as np\n",
        "arr = np.array([1, 2, 3])\n",
        "print(\"Original array:\")\n",
        "print(arr)\n",
        "\n",
        "byte_order = arr.dtype.byteorder\n",
        "print(\"\\nByte order of the array:\")\n",
        "print(byte_order)\n",
        "\n",
        "if byte_order == '<':\n",
        "    print(\"Little-endian\")\n",
        "elif byte_order == '>':\n",
        "    print(\"Big-endian\")\n",
        "else:\n",
        "    print(\"Native byte order (depends on system endianness)\")"
      ],
      "metadata": {
        "id": "k8riOYhicHIA"
      },
      "execution_count": null,
      "outputs": []
    },
    {
      "cell_type": "code",
      "source": [
        "# 72. For the given NumPy array, perform byte swapping in place using 'byteswap()`.\n",
        "#     arr = np.array ([1, 2, 3], dtype=np.int32)\n",
        "\n",
        "# Code\n",
        "\n",
        "import numpy as np\n",
        "\n",
        "arr = np.array([1, 2, 3], dtype=np.int32)\n",
        "print(\"Original array:\")\n",
        "print(arr)\n",
        "\n",
        "arr.byteswap(True)\n",
        "print(\"\\nArray after byte swapping:\")\n",
        "print(arr)"
      ],
      "metadata": {
        "id": "1-LrX6uocJCV"
      },
      "execution_count": null,
      "outputs": []
    },
    {
      "cell_type": "code",
      "source": [
        "# 73. For the given NumPy array, swap its byte order without modifying the original array using `newbyteorder()`.\n",
        "#     arr = np.array ([1, 2, 3], dtype=np.int32)\n",
        "\n",
        "# Code\n",
        "\n",
        "import numpy as np\n",
        "\n",
        "arr = np.array([1, 2, 3], dtype=np.int32)\n",
        "\n",
        "swapped_arr = arr.newbyteorder()\n",
        "\n",
        "print(\"Original array:\", arr)\n",
        "print(\"Array with swapped byte order:\", swapped_arr)"
      ],
      "metadata": {
        "id": "x8OdnmARcMLu"
      },
      "execution_count": null,
      "outputs": []
    },
    {
      "cell_type": "code",
      "source": [
        "# 74. For the given NumPy array and swap its byte order conditionally based on system endianness using `newbyteorder()`.\n",
        "#     arr = np.array ([1, 2, 3], dtype=np.int32)\n",
        "\n",
        "# Code\n",
        "\n",
        "import numpy as np\n",
        "\n",
        "arr = np.array([1, 2, 3], dtype=np.int32)\n",
        "print(\"Original array:\")\n",
        "print(arr)\n",
        "\n",
        "if arr.dtype.byteorder == '<' or (arr.dtype.byteorder == '=' and np.little_endian):\n",
        "    swapped_array = arr.newbyteorder()\n",
        "    print(\"\\nSystem is little-endian. Swapping byte order.\")\n",
        "else:\n",
        "    swapped_array = arr.copy()\n",
        "    print(\"\\nSystem is big-endian. No need to swap byte order.\")\n",
        "\n",
        "print(\"\\nArray after conditional byte swapping:\")\n",
        "print(swapped_array)"
      ],
      "metadata": {
        "id": "Rctu0J1ucO_x"
      },
      "execution_count": null,
      "outputs": []
    },
    {
      "cell_type": "code",
      "source": [
        "\n",
        "# 75. For the given NumPy array, check if byte swapping is necessary for the current system using`dtype` attribute 'byteorder`.\n",
        "#     arr = np.array ([1, 2, 3], dtype=np.int32)\n",
        "\n",
        "# Code\n",
        "\n",
        "import numpy as np\n",
        "\n",
        "arr = np.array([1, 2, 3], dtype=np.int32)\n",
        "print(\"Original array:\")\n",
        "print(arr)\n",
        "\n",
        "if arr.dtype.byteorder == '<' or (arr.dtype.byteorder == '=' and np.little_endian):\n",
        "    print(\"\\nSystem is little-endian. Byte swapping is necessary.\")\n",
        "else:\n",
        "    print(\"\\nSystem is big-endian. Byte swapping is not necessary.\")"
      ],
      "metadata": {
        "id": "wHjvrvk0cRQA"
      },
      "execution_count": null,
      "outputs": []
    },
    {
      "cell_type": "code",
      "source": [
        "# 76. Create a NumPy array `arr1` with values from 1 to 10. Create a copy of `arr1` named `copy_arr` and modify an element in `copy_arr`. Check if modifying `copy_arr` affects `arr1`.\n",
        "\n",
        "# Code\n",
        "\n",
        "import numpy as np\n",
        "arr1 = np.arange(1, 11)\n",
        "\n",
        "copy_arr = arr1.copy()\n",
        "copy_arr[0] = 100\n",
        "\n",
        "print(\"Original arr1:\", arr1)\n",
        "print(\"Modified copy_arr:\", copy_arr)"
      ],
      "metadata": {
        "id": "Shi013vlcW1c"
      },
      "execution_count": null,
      "outputs": []
    },
    {
      "cell_type": "code",
      "source": [
        "# 77. Create a 2D NumPy array `matrix` of shape (3, 3) with random integers. Extract a slice `view_slice` from  the matrix. Modify an element in `view_slice` and observe if it changes the original `matrix`.\n",
        "\n",
        "# Code\n",
        "\n",
        "import numpy as np\n",
        "\n",
        "matrix = np.random.randint(0, 10, size=(3, 3))\n",
        "view_slice = matrix[:2, :2]\n",
        "\n",
        "print(\"Original matrix:\")\n",
        "print(matrix)\n",
        "\n",
        "print(\"\\nSlice from the original matrix:\")\n",
        "print(view_slice)\n",
        "\n",
        "view_slice[0, 0] = 99\n",
        "\n",
        "print(\"\\nModified slice:\")\n",
        "print(view_slice)\n",
        "\n",
        "print(\"\\nOriginal matrix after modifying the slice:\")\n",
        "print(matrix)"
      ],
      "metadata": {
        "id": "uyWl92qycY-X"
      },
      "execution_count": null,
      "outputs": []
    },
    {
      "cell_type": "code",
      "source": [
        "# 78. Create a NumPy array array_a of shape (4, 3) with sequential integers from 1 to 12. Extract a slice view_b from array_a and broadcast the addition of 5 to view_b. Check if it alters the original array_a.\n",
        "\n",
        "# Code\n",
        "\n",
        "import numpy as np\n",
        "\n",
        "array_a = np.arange(1, 13).reshape(4, 3)\n",
        "print(\"Original array (array_a):\")\n",
        "print(array_a)\n",
        "\n",
        "view_b = array_a[1:3, :]\n",
        "print(\"\\nExtracted slice (view_b):\")\n",
        "print(view_b)\n",
        "\n",
        "view_b += 5\n",
        "print(\"\\nModified slice (view_b) after broadcasting addition of 5:\")\n",
        "print(view_b)\n",
        "\n",
        "print(\"\\nOriginal array (array_a) after modifying the slice:\")\n",
        "print(array_a)"
      ],
      "metadata": {
        "id": "qD_JziUfca8K"
      },
      "execution_count": null,
      "outputs": []
    },
    {
      "cell_type": "code",
      "source": [
        "# 79. Create a NumPy array `orig_array` of shape (2, 4) with values from 1 to 8. Create a reshaped view `reshaped_view` of shape (4, 2) from orig_array. Modify an element in `reshaped_view` and check if it reflects changes in the original `orig_array`.\n",
        "\n",
        "# Code\n",
        "\n",
        "import numpy as np\n",
        "\n",
        "orig_array = np.arange(1, 9).reshape(2, 4)\n",
        "print(\"Original array (orig_array):\")\n",
        "print(orig_array)\n",
        "\n",
        "reshaped_view = orig_array.reshape(4, 2)\n",
        "print(\"\\nReshaped view (reshaped_view):\")\n",
        "print(reshaped_view)\n",
        "\n",
        "reshaped_view[0, 0] = 999\n",
        "print(\"\\nModified view (reshaped_view):\")\n",
        "print(reshaped_view)\n",
        "\n",
        "print(\"\\nOriginal array after modifying the view:\")\n",
        "print(orig_array)"
      ],
      "metadata": {
        "id": "2u5PExgecc-c"
      },
      "execution_count": null,
      "outputs": []
    },
    {
      "cell_type": "code",
      "source": [
        "# 80. Create a NumPy array data of shape (3, 4) with random integers. Extract a copy data_copy of elements greater than 5. Modify an element in data_copy and verify if it affects the original data.\n",
        "\n",
        "# Code\n",
        "\n",
        "import numpy as np\n",
        "\n",
        "data = np.random.randint(1, 10, size=(3, 4))\n",
        "print(\"Original array (data):\")\n",
        "print(data)\n",
        "\n",
        "data_copy = data[data > 5].copy()\n",
        "print(\"\\nCopy of elements greater than 5 (data_copy):\")\n",
        "print(data_copy)\n",
        "\n",
        "data_copy[0] = 999\n",
        "print(\"\\nModified copy (data_copy):\")\n",
        "print(data_copy)\n",
        "\n",
        "print(\"\\nOriginal array (data) after modifying the copy:\")\n",
        "print(data)"
      ],
      "metadata": {
        "id": "QXds-9IVcgBT"
      },
      "execution_count": null,
      "outputs": []
    },
    {
      "cell_type": "code",
      "source": [
        "# 81. Create two matrices A and B of identical shape containing integers and perform addition and subtraction operations between them.\n",
        "\n",
        "# Code\n",
        "\n",
        "import numpy as np\n",
        "\n",
        "shape = (3, 3)\n",
        "A = np.random.randint(0, 10, shape)\n",
        "B = np.random.randint(0, 10, shape)\n",
        "\n",
        "addition_result = A + B\n",
        "subtraction_result = A - B\n",
        "\n",
        "print(\"Matrix A:\")\n",
        "print(A)\n",
        "print(\"\\nMatrix B:\")\n",
        "print(B)\n",
        "print(\"\\nAddition Result (A + B):\")\n",
        "print(addition_result)\n",
        "print(\"\\nSubtraction Result (A - B):\")\n",
        "print(subtraction_result)"
      ],
      "metadata": {
        "id": "6yP6uv8XciOn"
      },
      "execution_count": null,
      "outputs": []
    },
    {
      "cell_type": "code",
      "source": [
        "\n",
        "# 82. Generate two matrices `C` (3x2) and `D` (2x4) and perform matrix multiplication.\n",
        "\n",
        "# Code\n",
        "\n",
        "import numpy as np\n",
        "\n",
        "C = np.random.randint(1, 10, size=(3, 2))\n",
        "D = np.random.randint(1, 10, size=(2, 4))\n",
        "\n",
        "print(\"Matrix C:\")\n",
        "print(C)\n",
        "print(\"\\nMatrix D:\")\n",
        "print(D)\n",
        "\n",
        "result = np.dot(C, D)\n",
        "\n",
        "print(\"\\nResult of matrix multiplication:\")\n",
        "print(result)\n",
        "\n",
        "Matrix C:\n",
        "[[9 5]\n",
        " [6 4]\n",
        " [2 5]]"
      ],
      "metadata": {
        "id": "ZQ89-Q1CclXB"
      },
      "execution_count": null,
      "outputs": []
    },
    {
      "cell_type": "code",
      "source": [
        "# 83. Create a matrix E and find its transpose.\n",
        "\n",
        "# Code\n",
        "\n",
        "import numpy as np\n",
        "\n",
        "E = np.array([[1, 2, 3],\n",
        "              [4, 5, 6],\n",
        "              [7, 8, 9]])\n",
        "\n",
        "print(\"Matrix E:\")\n",
        "print(E)\n",
        "\n",
        "E_T = E.T\n",
        "\n",
        "print(\"Transpose of matrix E:\")\n",
        "print(E_T)"
      ],
      "metadata": {
        "id": "L3zhhHNvcpN2"
      },
      "execution_count": null,
      "outputs": []
    },
    {
      "cell_type": "code",
      "source": [
        "# 84. Generate a square matrix `F` and compute its determinant.\n",
        "\n",
        "# Code\n",
        "\n",
        "import numpy as np\n",
        "\n",
        "size = 4\n",
        "F = np.random.randint(0, 10, (size, size))\n",
        "\n",
        "determinant_F = np.linalg.det(F)\n",
        "\n",
        "print(\"Matrix F:\")\n",
        "print(F)\n",
        "print(\"\\nDeterminant of F:\", determinant_F)"
      ],
      "metadata": {
        "id": "vqnFa40Hcrch"
      },
      "execution_count": null,
      "outputs": []
    },
    {
      "cell_type": "code",
      "source": [
        "# 85. Create a square matrix `G` and find its inverse.\n",
        "\n",
        "# Code\n",
        "\n",
        "import numpy as np\n",
        "\n",
        "G = np.random.randint(1, 10, size=(3, 3))\n",
        "print(\"Matrix G:\")\n",
        "print(G)\n",
        "\n",
        "inverse_G = np.linalg.inv(G)\n",
        "\n",
        "print(\"\\nInverse of matrix G:\")\n",
        "print(inverse_G)\n",
        "\n",
        "\n",
        "Matrix G:\n",
        "[[8 4 1]\n",
        " [8 8 6]\n",
        " [9 5 1]]\n",
        "\n",
        "Inverse of matrix G:\n",
        "[[ 0.91666667 -0.04166667 -0.66666667]\n",
        " [-1.91666667  0.04166667  1.66666667]\n",
        " [ 1.33333333  0.16666667 -1.33333333]]"
      ],
      "metadata": {
        "id": "to_0aLRAcuR2"
      },
      "execution_count": null,
      "outputs": []
    }
  ]
}